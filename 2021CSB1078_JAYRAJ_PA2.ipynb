{
 "cells": [
  {
   "cell_type": "code",
   "execution_count": 18,
   "metadata": {},
   "outputs": [],
   "source": [
    "import cv2\n",
    "import matplotlib.pyplot as plt\n",
    "import numpy as np\n",
    "import dlib\n"
   ]
  },
  {
   "cell_type": "code",
   "execution_count": 19,
   "metadata": {},
   "outputs": [],
   "source": [
    "def find_index(pt,points):\n",
    "    ind=0\n",
    "    for point in points:\n",
    "        if pt==point:\n",
    "            return ind\n",
    "        ind+=1"
   ]
  },
  {
   "cell_type": "code",
   "execution_count": 20,
   "metadata": {},
   "outputs": [],
   "source": [
    "def delaunay_morph(img1,img2,factor,landmark_points_img1,landmark_points_img2,triangle_ind):\n",
    "    morph_image=np.zeros_like(img1)\n",
    "    landmark_points_morph=[]\n",
    "    for i in range(len(landmark_points_img1)):\n",
    "        temp1=int((1-factor)*(landmark_points_img1[i][0])+(factor)*(landmark_points_img2[i][0]))\n",
    "        temp2=int((1-factor)*(landmark_points_img1[i][1])+(factor)*(landmark_points_img2[i][1]))\n",
    "        landmark_points_morph.append((temp1,temp2))\n",
    "    \n",
    "    for t in triangle_ind:\n",
    "        img1_pt1=landmark_points_img1[t[0]]\n",
    "        img1_pt2=landmark_points_img1[t[1]]\n",
    "        img1_pt3=landmark_points_img1[t[2]]\n",
    "\n",
    "        morph_pt1=landmark_points_morph[t[0]]\n",
    "        morph_pt2=landmark_points_morph[t[1]]\n",
    "        morph_pt3=landmark_points_morph[t[2]]\n",
    "\n",
    "        img2_pt1=landmark_points_img2[t[0]]\n",
    "        img2_pt2=landmark_points_img2[t[1]]\n",
    "        img2_pt3=landmark_points_img2[t[2]]\n",
    "\n",
    "        triangle1=np.array([img1_pt1,img1_pt2,img1_pt3],np.int32)\n",
    "        x,y,w,h=cv2.boundingRect(triangle1)\n",
    "        rel_img1_pt1=(img1_pt1[0]-x,img1_pt1[1]-y)\n",
    "        rel_img1_pt2=(img1_pt2[0]-x,img1_pt2[1]-y)\n",
    "        rel_img1_pt3=(img1_pt3[0]-x,img1_pt3[1]-y)\n",
    "        cropped_triangle1=img1[y:y+h,x:x+w]\n",
    "\n",
    "        cropped_image1_mask=np.zeros((h,w),img1.dtype)\n",
    "        \n",
    "        points=np.array([[img1_pt1[0]-x,img1_pt1[1]-y],\n",
    "                         [img1_pt2[0]-x,img1_pt2[1]-y],\n",
    "                         [img1_pt3[0]-x,img1_pt3[1]-y]\n",
    "                         ])\n",
    "        cv2.fillConvexPoly(cropped_image1_mask,points,255)\n",
    "       \n",
    "\n",
    "        cropped_triangle1=cv2.bitwise_and(cropped_triangle1,cropped_triangle1,mask=cropped_image1_mask)\n",
    "\n",
    "        triangle2=np.array([img2_pt1,img2_pt2,img2_pt3],np.int32)\n",
    "        x,y,w,h=cv2.boundingRect(triangle2)\n",
    "        rel_img2_pt1=(img2_pt1[0]-x,img2_pt1[1]-y)\n",
    "        rel_img2_pt2=(img2_pt2[0]-x,img2_pt2[1]-y)\n",
    "        rel_img2_pt3=(img2_pt3[0]-x,img2_pt3[1]-y)\n",
    "        cropped_triangle2=img2[y:y+h,x:x+w]\n",
    "        # print(cropped_triangle2)\n",
    "        cropped_image2_mask=np.zeros((h,w),img2.dtype)\n",
    "        # cv2.imshow(\"before\",cropped_triangle2)\n",
    "        points=np.array([[img2_pt1[0]-x,img2_pt1[1]-y],\n",
    "                         [img2_pt2[0]-x,img2_pt2[1]-y],\n",
    "                         [img2_pt3[0]-x,img2_pt3[1]-y]\n",
    "                         ])\n",
    "        cv2.fillConvexPoly(cropped_image2_mask,points,255)\n",
    "        cropped_triangle2=cv2.bitwise_and(cropped_triangle2,cropped_triangle2,mask=cropped_image2_mask)\n",
    "        \n",
    "        morph_triangle=np.array([morph_pt1,morph_pt2,morph_pt3],np.int32)\n",
    "        x,y,w,h=cv2.boundingRect(morph_triangle)\n",
    "        rel_morph_pt1=(morph_pt1[0]-x,morph_pt1[1]-y)\n",
    "        rel_morph_pt2=(morph_pt2[0]-x,morph_pt2[1]-y)\n",
    "        rel_morph_pt3=(morph_pt3[0]-x,morph_pt3[1]-y)\n",
    "        p_of_img1=np.float32([rel_img1_pt1,rel_img1_pt2,rel_img1_pt3])\n",
    "        p_of_morph=np.float32([rel_morph_pt1,rel_morph_pt2,rel_morph_pt3])\n",
    "        p_of_img2=np.float32([rel_img2_pt1,rel_img2_pt2,rel_img2_pt3])\n",
    "        trans1=cv2.getAffineTransform(p_of_img1,p_of_morph)\n",
    "        trans2=cv2.getAffineTransform(p_of_img2,p_of_morph)\n",
    "\n",
    "        morph_part1=cv2.warpAffine(cropped_triangle1,trans1,(w,h),flags=cv2.INTER_NEAREST)\n",
    "        morph_part2=cv2.warpAffine(cropped_triangle2,trans2,(w,h),flags=cv2.INTER_NEAREST)\n",
    "        background=morph_image[y:y+h,x:x+w]\n",
    "        gray = cv2.cvtColor(background, cv2.COLOR_BGR2GRAY)\n",
    "\n",
    "        _, mask_triangles_designed = cv2.threshold(gray, 1, 255, cv2.THRESH_BINARY_INV)\n",
    "        morph_part1 = cv2.bitwise_and(morph_part1, morph_part1, mask=mask_triangles_designed)\n",
    "        morph_part2 = cv2.bitwise_and(morph_part2, morph_part2, mask=mask_triangles_designed)\n",
    "\n",
    "        final_triangle=cv2.addWeighted(morph_part1,(1-factor),morph_part2,factor,0)\n",
    "        \n",
    "        background=cv2.add(background,final_triangle)\n",
    "        \n",
    "        morph_image[y:y+h,x:x+w]=background\n",
    "\n",
    "    return morph_image \n"
   ]
  },
  {
   "cell_type": "code",
   "execution_count": 21,
   "metadata": {},
   "outputs": [],
   "source": [
    "def myfilter(img):\n",
    "    k=5\n",
    "    output=np.copy(img)\n",
    "    size=img.shape\n",
    "    gray = cv2.cvtColor(img, cv2.COLOR_BGR2GRAY)\n",
    "    for i in range(7,size[0]-7):\n",
    "        for j in range(7,size[1]-7):\n",
    "            if(gray[i][j]>=200):\n",
    "                output[i][j]=cv2.medianBlur(img[i-2:i+2,j-2:j+2],k)[0][0]\n",
    "    return output\n"
   ]
  },
  {
   "cell_type": "code",
   "execution_count": 22,
   "metadata": {},
   "outputs": [],
   "source": [
    "img1=cv2.imread(\"sherlock.png\",cv2.IMREAD_COLOR)\n",
    "img2=cv2.imread(\"watson.png\",cv2.IMREAD_COLOR)\n",
    "gray1 = cv2.cvtColor(img1, cv2.COLOR_BGR2GRAY)\n",
    "gray2 = cv2.cvtColor(img2, cv2.COLOR_BGR2GRAY)\n"
   ]
  },
  {
   "cell_type": "code",
   "execution_count": 23,
   "metadata": {},
   "outputs": [],
   "source": [
    "landmark_points1=[]\n",
    "landmark_points2=[]"
   ]
  },
  {
   "cell_type": "code",
   "execution_count": 24,
   "metadata": {},
   "outputs": [],
   "source": [
    "#if reading from file\n",
    "with open(\"landmark.txt\") as file:\n",
    "        line=file.readline()\n",
    "        while (len(line)!=0):\n",
    "            values=line.split()\n",
    "            assert(len(values)==4)\n",
    "            landmark_points1.append((int(values[0]),int(values[1])))\n",
    "            landmark_points2.append((int(values[2]),int(values[3])))\n",
    "            line=file.readline()\n"
   ]
  },
  {
   "cell_type": "code",
   "execution_count": 25,
   "metadata": {},
   "outputs": [],
   "source": [
    "#else face detector\n",
    "face_detector = dlib.get_frontal_face_detector()\n",
    "dlib_facelandmark = dlib.shape_predictor(\"shape_predictor_68_face_landmarks.dat\")\n",
    "faces = face_detector(gray1)\n",
    "landmark_points1=[]\n",
    "landmark_points2=[]\n",
    "for face in faces:\n",
    "    face_landmarks = dlib_facelandmark(gray1, face)\n",
    "    for n in range(0, 68):\n",
    "        x = face_landmarks.part(n).x\n",
    "        y = face_landmarks.part(n).y\n",
    "        landmark_points1.append((x,y))\n",
    "    break\n",
    "\n",
    "faces2 = face_detector(gray2)\n",
    "for face in faces2:\n",
    "    face_landmarks = dlib_facelandmark(gray2, face)\n",
    "    for n in range(0, 68):\n",
    "        x = face_landmarks.part(n).x\n",
    "        y = face_landmarks.part(n).y\n",
    "        landmark_points2.append((x,y))\n",
    "    break"
   ]
  },
  {
   "cell_type": "code",
   "execution_count": 26,
   "metadata": {},
   "outputs": [],
   "source": [
    "h,w=gray1.shape\n",
    "landmark_points1.extend([(0,0),(w-1,0),(0,h-1),(w-1,h-1)])        \n",
    "np_points1=np.array(landmark_points1,np.int32)"
   ]
  },
  {
   "cell_type": "code",
   "execution_count": 27,
   "metadata": {},
   "outputs": [],
   "source": [
    "h,w=gray1.shape\n",
    "rect=(0,0,w,h)\n",
    "subdiv=cv2.Subdiv2D(rect)\n",
    "subdiv.insert(landmark_points1)\n",
    "triangles1=subdiv.getTriangleList()\n",
    "triangles1=np.array(triangles1,dtype=np.int32)\n",
    "triangle_ind=[]\n",
    "for t in triangles1:\n",
    "    ind=[]\n",
    "    pt1=(t[0],t[1])\n",
    "    pt2=(t[2],t[3])\n",
    "    pt3=(t[4],t[5])\n",
    "    ind.append(find_index(pt1,landmark_points1))\n",
    "    ind.append(find_index(pt2,landmark_points1))\n",
    "    ind.append(find_index(pt3,landmark_points1))\n",
    "    triangle_ind.append(ind)\n",
    "\n"
   ]
  },
  {
   "cell_type": "code",
   "execution_count": 28,
   "metadata": {},
   "outputs": [],
   "source": [
    "h,w=gray2.shape\n",
    "landmark_points2.extend([(0,0),(w-1,0),(0,h-1),(w-1,h-1)])        \n",
    "np_points2=np.array(landmark_points2,np.int32)\n",
    "\n",
    "triangles2=[]\n",
    "for t in triangle_ind:\n",
    "    ls=[]\n",
    "    ls.extend(landmark_points2[t[0]])\n",
    "    ls.extend(landmark_points2[t[1]])\n",
    "    ls.extend(landmark_points2[t[2]])\n",
    "    triangles2.append(ls)\n"
   ]
  },
  {
   "cell_type": "code",
   "execution_count": 29,
   "metadata": {},
   "outputs": [],
   "source": [
    "images=[]\n",
    "frames=100\n",
    "for i in range(frames+1):\n",
    "    output=delaunay_morph(img1,img2,i/frames,np_points1,np_points2,triangle_ind)\n",
    "    output = cv2.medianBlur(output,5)\n",
    "    images.append(output)\n",
    "height,width,layers=images[0].shape\n",
    "size=(width,height)\n",
    "fourcc = cv2.VideoWriter_fourcc(*'mp4v')\n",
    "out = cv2.VideoWriter('hello.mp4',fourcc, 35, size)\n",
    "for i in range(len(images)):\n",
    "    out.write(images[i])\n",
    "out.release()\n",
    "\n"
   ]
  },
  {
   "cell_type": "code",
   "execution_count": null,
   "metadata": {},
   "outputs": [],
   "source": []
  }
 ],
 "metadata": {
  "kernelspec": {
   "display_name": "env",
   "language": "python",
   "name": "python3"
  },
  "language_info": {
   "codemirror_mode": {
    "name": "ipython",
    "version": 3
   },
   "file_extension": ".py",
   "mimetype": "text/x-python",
   "name": "python",
   "nbconvert_exporter": "python",
   "pygments_lexer": "ipython3",
   "version": "3.10.0"
  },
  "orig_nbformat": 4,
  "vscode": {
   "interpreter": {
    "hash": "8c2068dc21266561f9f942e350858ca9f391b75f8c361c9010e21c774d438e05"
   }
  }
 },
 "nbformat": 4,
 "nbformat_minor": 2
}
